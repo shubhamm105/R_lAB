{
  "nbformat": 4,
  "nbformat_minor": 0,
  "metadata": {
    "colab": {
      "name": "Copy of Copy of Experiment1_writeup.ipynb",
      "provenance": [],
      "collapsed_sections": [],
      "include_colab_link": true
    },
    "kernelspec": {
      "name": "ir",
      "display_name": "R"
    }
  },
  "cells": [
    {
      "cell_type": "markdown",
      "metadata": {
        "id": "view-in-github",
        "colab_type": "text"
      },
      "source": [
        "<a href=\"https://colab.research.google.com/github/shubhamm105/R_lAB/blob/main/Experiment1_writeup.ipynb\" target=\"_parent\"><img src=\"https://colab.research.google.com/assets/colab-badge.svg\" alt=\"Open In Colab\"/></a>"
      ]
    },
    {
      "cell_type": "markdown",
      "metadata": {
        "id": "ID8ytqkhyQUI"
      },
      "source": [
        "**Basics of R Programming**\n",
        "\n",
        "Let us learn basic building blocks of the R programming language.\n",
        "\n",
        "In most comman way R can be though as an interactive calculator.\n",
        "\n",
        "Try executing following code block\n"
      ]
    },
    {
      "cell_type": "code",
      "metadata": {
        "colab": {
          "base_uri": "https://localhost:8080/",
          "height": 34
        },
        "id": "laFgRgayS6Yq",
        "outputId": "9f5b505b-04dd-44a8-ebd1-cea814f868ca"
      },
      "source": [
        "#Code cell\n",
        "5*7"
      ],
      "execution_count": null,
      "outputs": [
        {
          "output_type": "display_data",
          "data": {
            "text/plain": [
              "[1] 35"
            ],
            "text/latex": "35",
            "text/markdown": "35",
            "text/html": [
              "35"
            ]
          },
          "metadata": {
            "tags": []
          }
        }
      ]
    },
    {
      "cell_type": "code",
      "metadata": {
        "colab": {
          "base_uri": "https://localhost:8080/",
          "height": 34
        },
        "id": "_ToRK7PP16VG",
        "outputId": "a85ea3a8-8354-468a-9cfc-34b389b1df40"
      },
      "source": [
        "typeof(12)"
      ],
      "execution_count": null,
      "outputs": [
        {
          "output_type": "display_data",
          "data": {
            "text/plain": [
              "[1] \"double\""
            ],
            "text/latex": "'double'",
            "text/markdown": "'double'",
            "text/html": [
              "'double'"
            ]
          },
          "metadata": {
            "tags": []
          }
        }
      ]
    },
    {
      "cell_type": "markdown",
      "metadata": {
        "id": "dwkEL9UGTdDu"
      },
      "source": [
        " **Store computed value in a variable**\n",
        "\n",
        " The way you assign a value to a variable in R is by using the assignment operator, which is just a 'less than'symbol followed by a 'minus' sign. It looks like this: <-"
      ]
    },
    {
      "cell_type": "code",
      "metadata": {
        "id": "uoJ8DVxkT1cq",
        "colab": {
          "base_uri": "https://localhost:8080/",
          "height": 34
        },
        "outputId": "fbf7bcfc-a9be-43f5-ee1f-ec3f9b1cfc98"
      },
      "source": [
        "#Store result of 5+7 in varible c\n",
        "c<-5+7\n",
        "c"
      ],
      "execution_count": null,
      "outputs": [
        {
          "output_type": "display_data",
          "data": {
            "text/plain": [
              "[1] 12"
            ],
            "text/latex": "12",
            "text/markdown": "12",
            "text/html": [
              "12"
            ]
          },
          "metadata": {
            "tags": []
          }
        }
      ]
    },
    {
      "cell_type": "code",
      "metadata": {
        "colab": {
          "base_uri": "https://localhost:8080/",
          "height": 34
        },
        "id": "51YX5Hh-13Fk",
        "outputId": "6fbc7a31-8c03-40e2-98af-095a9e37a5a8"
      },
      "source": [
        "typeof(c)"
      ],
      "execution_count": null,
      "outputs": [
        {
          "output_type": "display_data",
          "data": {
            "text/plain": [
              "[1] \"double\""
            ],
            "text/latex": "'double'",
            "text/markdown": "'double'",
            "text/html": [
              "'double'"
            ]
          },
          "metadata": {
            "tags": []
          }
        }
      ]
    },
    {
      "cell_type": "markdown",
      "metadata": {
        "id": "J3OsGT5RV-8v"
      },
      "source": [
        "We can further use variable c in another exrpession to create variable b which is 1 excess that one fourth of value of c"
      ]
    },
    {
      "cell_type": "code",
      "metadata": {
        "colab": {
          "base_uri": "https://localhost:8080/",
          "height": 51
        },
        "id": "5jf2aI3KT1qj",
        "outputId": "3246ac66-5262-492e-c3ba-feb39d996301"
      },
      "source": [
        "b<-c/4+1\n",
        "b \n",
        "d=c/4+1\n",
        "d"
      ],
      "execution_count": null,
      "outputs": [
        {
          "output_type": "display_data",
          "data": {
            "text/plain": [
              "[1] 14.25"
            ],
            "text/latex": "14.25",
            "text/markdown": "14.25",
            "text/html": [
              "14.25"
            ]
          },
          "metadata": {
            "tags": []
          }
        },
        {
          "output_type": "display_data",
          "data": {
            "text/plain": [
              "[1] 14.25"
            ],
            "text/latex": "14.25",
            "text/markdown": "14.25",
            "text/html": [
              "14.25"
            ]
          },
          "metadata": {
            "tags": []
          }
        }
      ]
    },
    {
      "cell_type": "code",
      "metadata": {
        "colab": {
          "base_uri": "https://localhost:8080/",
          "height": 51
        },
        "id": "Ngf878ZR2GB6",
        "outputId": "aa70c33b-14ba-4016-eb96-16437ea0ab15"
      },
      "source": [
        "typeof(b)\n",
        "typeof(d)\n"
      ],
      "execution_count": null,
      "outputs": [
        {
          "output_type": "display_data",
          "data": {
            "text/plain": [
              "[1] \"double\""
            ],
            "text/latex": "'double'",
            "text/markdown": "'double'",
            "text/html": [
              "'double'"
            ]
          },
          "metadata": {
            "tags": []
          }
        },
        {
          "output_type": "display_data",
          "data": {
            "text/plain": [
              "[1] \"double\""
            ],
            "text/latex": "'double'",
            "text/markdown": "'double'",
            "text/html": [
              "'double'"
            ]
          },
          "metadata": {
            "tags": []
          }
        }
      ]
    },
    {
      "cell_type": "markdown",
      "metadata": {
        "id": "1E01QTsy05p_"
      },
      "source": [
        "**Creation of Vector**\n",
        "\n",
        "The easiest way to create a vector is with the c() function, which stands for 'concatenate' or 'combine'. \n",
        "\n",
        " To create a vector containing the numbers 1.1, 9, and 3.14, type c(1.1, 9, 3.14). Try it now and store the result in a variable called z in following code block. "
      ]
    },
    {
      "cell_type": "code",
      "metadata": {
        "colab": {
          "base_uri": "https://localhost:8080/",
          "height": 51
        },
        "id": "Dgx9ap0OT12g",
        "outputId": "c31474c3-6e39-4217-b9f4-936a64250884"
      },
      "source": [
        "z <- c(1.1, 9, 3.14)\n",
        "z\n",
        "z1 <- c(1.1, 9, 5,566,4564.545646)\n",
        "z1\n"
      ],
      "execution_count": null,
      "outputs": [
        {
          "output_type": "display_data",
          "data": {
            "text/plain": [
              "[1] 1.10 9.00 3.14"
            ],
            "text/latex": "\\begin{enumerate*}\n\\item 1.1\n\\item 9\n\\item 3.14\n\\end{enumerate*}\n",
            "text/markdown": "1. 1.1\n2. 9\n3. 3.14\n\n\n",
            "text/html": [
              "<style>\n",
              ".list-inline {list-style: none; margin:0; padding: 0}\n",
              ".list-inline>li {display: inline-block}\n",
              ".list-inline>li:not(:last-child)::after {content: \"\\00b7\"; padding: 0 .5ex}\n",
              "</style>\n",
              "<ol class=list-inline><li>1.1</li><li>9</li><li>3.14</li></ol>\n"
            ]
          },
          "metadata": {
            "tags": []
          }
        },
        {
          "output_type": "display_data",
          "data": {
            "text/plain": [
              "[1]    1.100    9.000    5.000  566.000 4564.546"
            ],
            "text/latex": "\\begin{enumerate*}\n\\item 1.1\n\\item 9\n\\item 5\n\\item 566\n\\item 4564.545646\n\\end{enumerate*}\n",
            "text/markdown": "1. 1.1\n2. 9\n3. 5\n4. 566\n5. 4564.545646\n\n\n",
            "text/html": [
              "<style>\n",
              ".list-inline {list-style: none; margin:0; padding: 0}\n",
              ".list-inline>li {display: inline-block}\n",
              ".list-inline>li:not(:last-child)::after {content: \"\\00b7\"; padding: 0 .5ex}\n",
              "</style>\n",
              "<ol class=list-inline><li>1.1</li><li>9</li><li>5</li><li>566</li><li>4564.545646</li></ol>\n"
            ]
          },
          "metadata": {
            "tags": []
          }
        }
      ]
    },
    {
      "cell_type": "code",
      "metadata": {
        "colab": {
          "base_uri": "https://localhost:8080/",
          "height": 68
        },
        "id": "2WTysXG82Mnt",
        "outputId": "aef634e7-6c90-4542-94ee-91dac86817f5"
      },
      "source": [
        "typeof(z)\n",
        "typeof(z1)\n",
        "class(z)"
      ],
      "execution_count": null,
      "outputs": [
        {
          "output_type": "display_data",
          "data": {
            "text/plain": [
              "[1] \"character\""
            ],
            "text/latex": "'character'",
            "text/markdown": "'character'",
            "text/html": [
              "'character'"
            ]
          },
          "metadata": {
            "tags": []
          }
        },
        {
          "output_type": "display_data",
          "data": {
            "text/plain": [
              "[1] \"double\""
            ],
            "text/latex": "'double'",
            "text/markdown": "'double'",
            "text/html": [
              "'double'"
            ]
          },
          "metadata": {
            "tags": []
          }
        },
        {
          "output_type": "display_data",
          "data": {
            "text/plain": [
              "[1] \"character\""
            ],
            "text/latex": "'character'",
            "text/markdown": "'character'",
            "text/html": [
              "'character'"
            ]
          },
          "metadata": {
            "tags": []
          }
        }
      ]
    },
    {
      "cell_type": "code",
      "metadata": {
        "colab": {
          "base_uri": "https://localhost:8080/",
          "height": 34
        },
        "id": "-Xl8TbUC3AWV",
        "outputId": "6268d176-ec9b-40ef-a3a0-6dac0dabe1aa"
      },
      "source": [
        "z"
      ],
      "execution_count": null,
      "outputs": [
        {
          "output_type": "display_data",
          "data": {
            "text/plain": [
              "[1] \"1.1\" \"9\"   \"dhg\""
            ],
            "text/latex": "\\begin{enumerate*}\n\\item '1.1'\n\\item '9'\n\\item 'dhg'\n\\end{enumerate*}\n",
            "text/markdown": "1. '1.1'\n2. '9'\n3. 'dhg'\n\n\n",
            "text/html": [
              "<style>\n",
              ".list-inline {list-style: none; margin:0; padding: 0}\n",
              ".list-inline>li {display: inline-block}\n",
              ".list-inline>li:not(:last-child)::after {content: \"\\00b7\"; padding: 0 .5ex}\n",
              "</style>\n",
              "<ol class=list-inline><li>'1.1'</li><li>'9'</li><li>'dhg'</li></ol>\n"
            ]
          },
          "metadata": {
            "tags": []
          }
        }
      ]
    },
    {
      "cell_type": "code",
      "metadata": {
        "id": "-0bEqCrA2OGa"
      },
      "source": [
        "#Get Documentation about concatinate\n",
        "?c\n",
        "#help(c)"
      ],
      "execution_count": null,
      "outputs": []
    },
    {
      "cell_type": "markdown",
      "metadata": {
        "id": "wIk26TAl3Uww"
      },
      "source": [
        "You can combine vectors to make a new vector. \n",
        "\n",
        "Create a new vector that contains z, 555, then z again in that order. Don't assign this vector to a new variable, so that we can just see the result immediately."
      ]
    },
    {
      "cell_type": "code",
      "metadata": {
        "colab": {
          "base_uri": "https://localhost:8080/",
          "height": 34
        },
        "id": "ijGw7IF73AoV",
        "outputId": "1a8a6d47-fbd4-4516-9df1-f588b715d337"
      },
      "source": [
        "c(z,555,z)\r\n"
      ],
      "execution_count": null,
      "outputs": [
        {
          "output_type": "display_data",
          "data": {
            "text/plain": [
              "[1]   1.10   9.00   3.14 555.00   1.10   9.00   3.14"
            ],
            "text/latex": "\\begin{enumerate*}\n\\item 1.1\n\\item 9\n\\item 3.14\n\\item 555\n\\item 1.1\n\\item 9\n\\item 3.14\n\\end{enumerate*}\n",
            "text/markdown": "1. 1.1\n2. 9\n3. 3.14\n4. 555\n5. 1.1\n6. 9\n7. 3.14\n\n\n",
            "text/html": [
              "<style>\n",
              ".list-inline {list-style: none; margin:0; padding: 0}\n",
              ".list-inline>li {display: inline-block}\n",
              ".list-inline>li:not(:last-child)::after {content: \"\\00b7\"; padding: 0 .5ex}\n",
              "</style>\n",
              "<ol class=list-inline><li>1.1</li><li>9</li><li>3.14</li><li>555</li><li>1.1</li><li>9</li><li>3.14</li></ol>\n"
            ]
          },
          "metadata": {
            "tags": []
          }
        }
      ]
    },
    {
      "cell_type": "code",
      "metadata": {
        "id": "2nrXSHBjSFQ4"
      },
      "source": [
        "z<-c(3,6,5)"
      ],
      "execution_count": null,
      "outputs": []
    },
    {
      "cell_type": "markdown",
      "metadata": {
        "id": "2W1R03gK3mWg"
      },
      "source": [
        "**Using Vector in Expression**\n",
        "\n",
        "compute z^2 + 3 and check output"
      ]
    },
    {
      "cell_type": "code",
      "metadata": {
        "colab": {
          "base_uri": "https://localhost:8080/",
          "height": 51
        },
        "id": "N_x4nZD-2ifL",
        "outputId": "7aad4acf-c3f3-4aff-8eaf-c2ff6f53f546"
      },
      "source": [
        "z\r\n",
        "z^2+3"
      ],
      "execution_count": null,
      "outputs": [
        {
          "output_type": "display_data",
          "data": {
            "text/plain": [
              "[1] 3 6 5"
            ],
            "text/latex": "\\begin{enumerate*}\n\\item 3\n\\item 6\n\\item 5\n\\end{enumerate*}\n",
            "text/markdown": "1. 3\n2. 6\n3. 5\n\n\n",
            "text/html": [
              "<style>\n",
              ".list-inline {list-style: none; margin:0; padding: 0}\n",
              ".list-inline>li {display: inline-block}\n",
              ".list-inline>li:not(:last-child)::after {content: \"\\00b7\"; padding: 0 .5ex}\n",
              "</style>\n",
              "<ol class=list-inline><li>3</li><li>6</li><li>5</li></ol>\n"
            ]
          },
          "metadata": {
            "tags": []
          }
        },
        {
          "output_type": "display_data",
          "data": {
            "text/plain": [
              "[1] 12 39 28"
            ],
            "text/latex": "\\begin{enumerate*}\n\\item 12\n\\item 39\n\\item 28\n\\end{enumerate*}\n",
            "text/markdown": "1. 12\n2. 39\n3. 28\n\n\n",
            "text/html": [
              "<style>\n",
              ".list-inline {list-style: none; margin:0; padding: 0}\n",
              ".list-inline>li {display: inline-block}\n",
              ".list-inline>li:not(:last-child)::after {content: \"\\00b7\"; padding: 0 .5ex}\n",
              "</style>\n",
              "<ol class=list-inline><li>12</li><li>39</li><li>28</li></ol>\n"
            ]
          },
          "metadata": {
            "tags": []
          }
        }
      ]
    },
    {
      "cell_type": "markdown",
      "metadata": {
        "id": "C6Sl3d3m4Mpu"
      },
      "source": [
        "**Comman Arithmatic Operators in R**\n",
        "\n",
        "+, -, /, *, ^ are comman operators and sqrt, abs are arithmatic functions in R"
      ]
    },
    {
      "cell_type": "markdown",
      "metadata": {
        "id": "MhpNvKxD5b39"
      },
      "source": [
        "When given two vectors of the same length, R simply performs the specified arithmetic operation (`+`, `-`, `*` etc.) element-by-element. If the vectors are of different lengths, R 'recycles' the shorter vector until it is the same length as the longer vector.\n",
        "\n",
        "When we do z * 2 + 100, z is a vector of length 3, but technically 2 and 100 are each vectors of length 1."
      ]
    },
    {
      "cell_type": "code",
      "metadata": {
        "colab": {
          "base_uri": "https://localhost:8080/",
          "height": 51
        },
        "id": "ymnNvfCUJX__",
        "outputId": "45d0d404-eda6-45cd-bcad-a505bb347bd9"
      },
      "source": [
        "y<-rep(2,10)\n",
        "y\n",
        "length(y)"
      ],
      "execution_count": null,
      "outputs": [
        {
          "output_type": "display_data",
          "data": {
            "text/plain": [
              " [1] 2 2 2 2 2 2 2 2 2 2"
            ],
            "text/latex": "\\begin{enumerate*}\n\\item 2\n\\item 2\n\\item 2\n\\item 2\n\\item 2\n\\item 2\n\\item 2\n\\item 2\n\\item 2\n\\item 2\n\\end{enumerate*}\n",
            "text/markdown": "1. 2\n2. 2\n3. 2\n4. 2\n5. 2\n6. 2\n7. 2\n8. 2\n9. 2\n10. 2\n\n\n",
            "text/html": [
              "<style>\n",
              ".list-inline {list-style: none; margin:0; padding: 0}\n",
              ".list-inline>li {display: inline-block}\n",
              ".list-inline>li:not(:last-child)::after {content: \"\\00b7\"; padding: 0 .5ex}\n",
              "</style>\n",
              "<ol class=list-inline><li>2</li><li>2</li><li>2</li><li>2</li><li>2</li><li>2</li><li>2</li><li>2</li><li>2</li><li>2</li></ol>\n"
            ]
          },
          "metadata": {
            "tags": []
          }
        },
        {
          "output_type": "display_data",
          "data": {
            "text/plain": [
              "[1] 10"
            ],
            "text/latex": "10",
            "text/markdown": "10",
            "text/html": [
              "10"
            ]
          },
          "metadata": {
            "tags": []
          }
        }
      ]
    },
    {
      "cell_type": "code",
      "metadata": {
        "colab": {
          "base_uri": "https://localhost:8080/",
          "height": 119
        },
        "id": "vENgSa6E32kc",
        "outputId": "61044ef8-e37c-4882-a331-10b3608996ba"
      },
      "source": [
        "# Does recycling explains output of following expression\n",
        "c(1, 2, 3, 4) + c(0, 10)\n",
        "c(1, 2, 3, 4) + c(0, 10, 0 ,10)\n",
        "c(1, 2, 3, 4, 5) + c(2, 10)\n",
        "c(1, 2, 3, 4, 5) + c(2, 10, 2, 10, 2)"
      ],
      "execution_count": null,
      "outputs": [
        {
          "output_type": "display_data",
          "data": {
            "text/plain": [
              "[1]  1 12  3 14"
            ],
            "text/latex": "\\begin{enumerate*}\n\\item 1\n\\item 12\n\\item 3\n\\item 14\n\\end{enumerate*}\n",
            "text/markdown": "1. 1\n2. 12\n3. 3\n4. 14\n\n\n",
            "text/html": [
              "<style>\n",
              ".list-inline {list-style: none; margin:0; padding: 0}\n",
              ".list-inline>li {display: inline-block}\n",
              ".list-inline>li:not(:last-child)::after {content: \"\\00b7\"; padding: 0 .5ex}\n",
              "</style>\n",
              "<ol class=list-inline><li>1</li><li>12</li><li>3</li><li>14</li></ol>\n"
            ]
          },
          "metadata": {
            "tags": []
          }
        },
        {
          "output_type": "display_data",
          "data": {
            "text/plain": [
              "[1]  1 12  3 14"
            ],
            "text/latex": "\\begin{enumerate*}\n\\item 1\n\\item 12\n\\item 3\n\\item 14\n\\end{enumerate*}\n",
            "text/markdown": "1. 1\n2. 12\n3. 3\n4. 14\n\n\n",
            "text/html": [
              "<style>\n",
              ".list-inline {list-style: none; margin:0; padding: 0}\n",
              ".list-inline>li {display: inline-block}\n",
              ".list-inline>li:not(:last-child)::after {content: \"\\00b7\"; padding: 0 .5ex}\n",
              "</style>\n",
              "<ol class=list-inline><li>1</li><li>12</li><li>3</li><li>14</li></ol>\n"
            ]
          },
          "metadata": {
            "tags": []
          }
        },
        {
          "output_type": "stream",
          "text": [
            "Warning message in c(1, 2, 3, 4, 5) + c(2, 10):\n",
            "“longer object length is not a multiple of shorter object length”\n"
          ],
          "name": "stderr"
        },
        {
          "output_type": "display_data",
          "data": {
            "text/plain": [
              "[1]  3 12  5 14  7"
            ],
            "text/latex": "\\begin{enumerate*}\n\\item 3\n\\item 12\n\\item 5\n\\item 14\n\\item 7\n\\end{enumerate*}\n",
            "text/markdown": "1. 3\n2. 12\n3. 5\n4. 14\n5. 7\n\n\n",
            "text/html": [
              "<style>\n",
              ".list-inline {list-style: none; margin:0; padding: 0}\n",
              ".list-inline>li {display: inline-block}\n",
              ".list-inline>li:not(:last-child)::after {content: \"\\00b7\"; padding: 0 .5ex}\n",
              "</style>\n",
              "<ol class=list-inline><li>3</li><li>12</li><li>5</li><li>14</li><li>7</li></ol>\n"
            ]
          },
          "metadata": {
            "tags": []
          }
        },
        {
          "output_type": "display_data",
          "data": {
            "text/plain": [
              "[1]  3 12  5 14  7"
            ],
            "text/latex": "\\begin{enumerate*}\n\\item 3\n\\item 12\n\\item 5\n\\item 14\n\\item 7\n\\end{enumerate*}\n",
            "text/markdown": "1. 3\n2. 12\n3. 5\n4. 14\n5. 7\n\n\n",
            "text/html": [
              "<style>\n",
              ".list-inline {list-style: none; margin:0; padding: 0}\n",
              ".list-inline>li {display: inline-block}\n",
              ".list-inline>li:not(:last-child)::after {content: \"\\00b7\"; padding: 0 .5ex}\n",
              "</style>\n",
              "<ol class=list-inline><li>3</li><li>12</li><li>5</li><li>14</li><li>7</li></ol>\n"
            ]
          },
          "metadata": {
            "tags": []
          }
        }
      ]
    },
    {
      "cell_type": "markdown",
      "metadata": {
        "id": "WQW7cdOiUQGB"
      },
      "source": [
        "**How to access disk?** "
      ]
    },
    {
      "cell_type": "code",
      "metadata": {
        "id": "5lA714zl6KG3",
        "colab": {
          "base_uri": "https://localhost:8080/",
          "height": 34
        },
        "outputId": "827a14a0-ca1e-4a5b-fde1-0271104e68c2"
      },
      "source": [
        "curdir<-getwd()\n",
        "curdir"
      ],
      "execution_count": null,
      "outputs": [
        {
          "output_type": "display_data",
          "data": {
            "text/plain": [
              "[1] \"/content\""
            ],
            "text/latex": "'/content'",
            "text/markdown": "'/content'",
            "text/html": [
              "'/content'"
            ]
          },
          "metadata": {
            "tags": []
          }
        }
      ]
    },
    {
      "cell_type": "code",
      "metadata": {
        "colab": {
          "base_uri": "https://localhost:8080/",
          "height": 34
        },
        "id": "qfLiWY-f2bx3",
        "outputId": "c2376018-314e-4af0-f63a-784b73d11dc0"
      },
      "source": [
        "ls()"
      ],
      "execution_count": null,
      "outputs": [
        {
          "output_type": "display_data",
          "data": {
            "text/plain": [
              "[1] \"b\"      \"c\"      \"curdir\" \"d\"      \"y\"      \"z\"      \"z1\"    "
            ],
            "text/latex": "\\begin{enumerate*}\n\\item 'b'\n\\item 'c'\n\\item 'curdir'\n\\item 'd'\n\\item 'y'\n\\item 'z'\n\\item 'z1'\n\\end{enumerate*}\n",
            "text/markdown": "1. 'b'\n2. 'c'\n3. 'curdir'\n4. 'd'\n5. 'y'\n6. 'z'\n7. 'z1'\n\n\n",
            "text/html": [
              "<style>\n",
              ".list-inline {list-style: none; margin:0; padding: 0}\n",
              ".list-inline>li {display: inline-block}\n",
              ".list-inline>li:not(:last-child)::after {content: \"\\00b7\"; padding: 0 .5ex}\n",
              "</style>\n",
              "<ol class=list-inline><li>'b'</li><li>'c'</li><li>'curdir'</li><li>'d'</li><li>'y'</li><li>'z'</li><li>'z1'</li></ol>\n"
            ]
          },
          "metadata": {
            "tags": []
          }
        }
      ]
    },
    {
      "cell_type": "code",
      "metadata": {
        "colab": {
          "base_uri": "https://localhost:8080/",
          "height": 34
        },
        "id": "ksWmlrly2nEP",
        "outputId": "bb3f65c4-43c3-4f50-f256-bcb7c55d024c"
      },
      "source": [
        "#show you files in PWD\n",
        "list.files()\n",
        "#dir('.')"
      ],
      "execution_count": null,
      "outputs": [
        {
          "output_type": "display_data",
          "data": {
            "text/plain": [
              "[1] \"sample_data\""
            ],
            "text/latex": "'sample\\_data'",
            "text/markdown": "'sample_data'",
            "text/html": [
              "'sample_data'"
            ]
          },
          "metadata": {
            "tags": []
          }
        }
      ]
    },
    {
      "cell_type": "code",
      "metadata": {
        "colab": {
          "base_uri": "https://localhost:8080/",
          "height": 34
        },
        "id": "QkEscD2x3CnA",
        "outputId": "0cebfb2a-0b9a-444b-c3b4-81cd170b9246"
      },
      "source": [
        "list.dirs('sample_data')"
      ],
      "execution_count": null,
      "outputs": [
        {
          "output_type": "display_data",
          "data": {
            "text/plain": [
              "[1] \"sample_data\""
            ],
            "text/latex": "'sample\\_data'",
            "text/markdown": "'sample_data'",
            "text/html": [
              "'sample_data'"
            ]
          },
          "metadata": {
            "tags": []
          }
        }
      ]
    },
    {
      "cell_type": "code",
      "metadata": {
        "id": "Q_0Aq8xP3F2P"
      },
      "source": [
        "old_dir<-getwd()"
      ],
      "execution_count": null,
      "outputs": []
    },
    {
      "cell_type": "code",
      "metadata": {
        "id": "qg_N6Ejx3krB"
      },
      "source": [
        "#creates a folder on ur device \n",
        "dir.create('test2')"
      ],
      "execution_count": null,
      "outputs": []
    },
    {
      "cell_type": "code",
      "metadata": {
        "colab": {
          "base_uri": "https://localhost:8080/",
          "height": 34
        },
        "id": "sIkEEQaC38Mm",
        "outputId": "f3e952e2-8932-4fca-cd41-bbc1c3b7acc5"
      },
      "source": [
        "list.dirs()"
      ],
      "execution_count": null,
      "outputs": [
        {
          "output_type": "display_data",
          "data": {
            "text/plain": [
              "[1] \".\"                         \"./.config\"                \n",
              "[3] \"./.config/configurations\"  \"./.config/logs\"           \n",
              "[5] \"./.config/logs/2021.03.01\" \"./sample_data\"            \n",
              "[7] \"./test2\"                  "
            ],
            "text/latex": "\\begin{enumerate*}\n\\item '.'\n\\item './.config'\n\\item './.config/configurations'\n\\item './.config/logs'\n\\item './.config/logs/2021.03.01'\n\\item './sample\\_data'\n\\item './test2'\n\\end{enumerate*}\n",
            "text/markdown": "1. '.'\n2. './.config'\n3. './.config/configurations'\n4. './.config/logs'\n5. './.config/logs/2021.03.01'\n6. './sample_data'\n7. './test2'\n\n\n",
            "text/html": [
              "<style>\n",
              ".list-inline {list-style: none; margin:0; padding: 0}\n",
              ".list-inline>li {display: inline-block}\n",
              ".list-inline>li:not(:last-child)::after {content: \"\\00b7\"; padding: 0 .5ex}\n",
              "</style>\n",
              "<ol class=list-inline><li>'.'</li><li>'./.config'</li><li>'./.config/configurations'</li><li>'./.config/logs'</li><li>'./.config/logs/2021.03.01'</li><li>'./sample_data'</li><li>'./test2'</li></ol>\n"
            ]
          },
          "metadata": {
            "tags": []
          }
        }
      ]
    },
    {
      "cell_type": "code",
      "metadata": {
        "id": "JEZqFJwN4Bit",
        "colab": {
          "base_uri": "https://localhost:8080/",
          "height": 34
        },
        "outputId": "f6e412ad-8a50-4de3-8bcb-491aa214c29c"
      },
      "source": [
        "getwd()"
      ],
      "execution_count": null,
      "outputs": [
        {
          "output_type": "display_data",
          "data": {
            "text/plain": [
              "[1] \"/content\""
            ],
            "text/latex": "'/content'",
            "text/markdown": "'/content'",
            "text/html": [
              "'/content'"
            ]
          },
          "metadata": {
            "tags": []
          }
        }
      ]
    },
    {
      "cell_type": "code",
      "metadata": {
        "colab": {
          "base_uri": "https://localhost:8080/",
          "height": 34
        },
        "id": "-4s6O4Bs4IrF",
        "outputId": "d8704f2b-822f-4327-8b1e-444774179dcb"
      },
      "source": [
        "file.create('mytest.R')"
      ],
      "execution_count": null,
      "outputs": [
        {
          "output_type": "display_data",
          "data": {
            "text/plain": [
              "[1] TRUE"
            ],
            "text/latex": "TRUE",
            "text/markdown": "TRUE",
            "text/html": [
              "TRUE"
            ]
          },
          "metadata": {
            "tags": []
          }
        }
      ]
    },
    {
      "cell_type": "code",
      "metadata": {
        "colab": {
          "base_uri": "https://localhost:8080/",
          "height": 34
        },
        "id": "7qFMXVAD4aJp",
        "outputId": "0c0f91cb-55ca-4d97-ab5b-3d2c1b7075b6"
      },
      "source": [
        "dir()"
      ],
      "execution_count": null,
      "outputs": [
        {
          "output_type": "display_data",
          "data": {
            "text/plain": [
              "[1] \"mytest.R\"    \"sample_data\" \"test2\"      "
            ],
            "text/latex": "\\begin{enumerate*}\n\\item 'mytest.R'\n\\item 'sample\\_data'\n\\item 'test2'\n\\end{enumerate*}\n",
            "text/markdown": "1. 'mytest.R'\n2. 'sample_data'\n3. 'test2'\n\n\n",
            "text/html": [
              "<style>\n",
              ".list-inline {list-style: none; margin:0; padding: 0}\n",
              ".list-inline>li {display: inline-block}\n",
              ".list-inline>li:not(:last-child)::after {content: \"\\00b7\"; padding: 0 .5ex}\n",
              "</style>\n",
              "<ol class=list-inline><li>'mytest.R'</li><li>'sample_data'</li><li>'test2'</li></ol>\n"
            ]
          },
          "metadata": {
            "tags": []
          }
        }
      ]
    },
    {
      "cell_type": "code",
      "metadata": {
        "colab": {
          "base_uri": "https://localhost:8080/",
          "height": 51
        },
        "id": "haRUcBBT4kPf",
        "outputId": "4817937f-2695-4dcb-923b-d9d2eaea6a45"
      },
      "source": [
        "file.exists('/test2/mytest.R')\n",
        "file.exists('mytest.R')"
      ],
      "execution_count": null,
      "outputs": [
        {
          "output_type": "display_data",
          "data": {
            "text/plain": [
              "[1] FALSE"
            ],
            "text/latex": "FALSE",
            "text/markdown": "FALSE",
            "text/html": [
              "FALSE"
            ]
          },
          "metadata": {
            "tags": []
          }
        },
        {
          "output_type": "display_data",
          "data": {
            "text/plain": [
              "[1] TRUE"
            ],
            "text/latex": "TRUE",
            "text/markdown": "TRUE",
            "text/html": [
              "TRUE"
            ]
          },
          "metadata": {
            "tags": []
          }
        }
      ]
    },
    {
      "cell_type": "code",
      "metadata": {
        "colab": {
          "base_uri": "https://localhost:8080/",
          "height": 128
        },
        "id": "254zalqu4r2-",
        "outputId": "13ddc747-b11f-4824-dcb3-38abaefad586"
      },
      "source": [
        "file.info('./myTest.R')"
      ],
      "execution_count": null,
      "outputs": [
        {
          "output_type": "display_data",
          "data": {
            "text/plain": [
              "           size isdir mode mtime ctime atime uid gid uname grname\n",
              "./myTest.R NA   NA    <NA> <NA>  <NA>  <NA>  NA  NA  NA    NA    "
            ],
            "text/latex": "A data.frame: 1 × 10\n\\begin{tabular}{r|llllllllll}\n  & size & isdir & mode & mtime & ctime & atime & uid & gid & uname & grname\\\\\n  & <dbl> & <lgl> & <octmode> & <dttm> & <dttm> & <dttm> & <int> & <int> & <chr> & <chr>\\\\\n\\hline\n\t./myTest.R & NA & NA & NA & NA & NA & NA & NA & NA & NA & NA\\\\\n\\end{tabular}\n",
            "text/markdown": "\nA data.frame: 1 × 10\n\n| <!--/--> | size &lt;dbl&gt; | isdir &lt;lgl&gt; | mode &lt;octmode&gt; | mtime &lt;dttm&gt; | ctime &lt;dttm&gt; | atime &lt;dttm&gt; | uid &lt;int&gt; | gid &lt;int&gt; | uname &lt;chr&gt; | grname &lt;chr&gt; |\n|---|---|---|---|---|---|---|---|---|---|---|\n| ./myTest.R | NA | NA | NA | NA | NA | NA | NA | NA | NA | NA |\n\n",
            "text/html": [
              "<table class=\"dataframe\">\n",
              "<caption>A data.frame: 1 × 10</caption>\n",
              "<thead>\n",
              "\t<tr><th></th><th scope=col>size</th><th scope=col>isdir</th><th scope=col>mode</th><th scope=col>mtime</th><th scope=col>ctime</th><th scope=col>atime</th><th scope=col>uid</th><th scope=col>gid</th><th scope=col>uname</th><th scope=col>grname</th></tr>\n",
              "\t<tr><th></th><th scope=col>&lt;dbl&gt;</th><th scope=col>&lt;lgl&gt;</th><th scope=col>&lt;octmode&gt;</th><th scope=col>&lt;dttm&gt;</th><th scope=col>&lt;dttm&gt;</th><th scope=col>&lt;dttm&gt;</th><th scope=col>&lt;int&gt;</th><th scope=col>&lt;int&gt;</th><th scope=col>&lt;chr&gt;</th><th scope=col>&lt;chr&gt;</th></tr>\n",
              "</thead>\n",
              "<tbody>\n",
              "\t<tr><th scope=row>./myTest.R</th><td>NA</td><td>NA</td><td>NA</td><td>NA</td><td>NA</td><td>NA</td><td>NA</td><td>NA</td><td>NA</td><td>NA</td></tr>\n",
              "</tbody>\n",
              "</table>\n"
            ]
          },
          "metadata": {
            "tags": []
          }
        }
      ]
    },
    {
      "cell_type": "code",
      "metadata": {
        "colab": {
          "base_uri": "https://localhost:8080/",
          "height": 34
        },
        "id": "Zpnce-Rn5KTs",
        "outputId": "429c19d9-1fa3-41aa-a856-157b4d7834cb"
      },
      "source": [
        "file.rename('mytest.R','mytest2.R')"
      ],
      "execution_count": null,
      "outputs": [
        {
          "output_type": "display_data",
          "data": {
            "text/plain": [
              "[1] TRUE"
            ],
            "text/latex": "TRUE",
            "text/markdown": "TRUE",
            "text/html": [
              "TRUE"
            ]
          },
          "metadata": {
            "tags": []
          }
        }
      ]
    },
    {
      "cell_type": "code",
      "metadata": {
        "colab": {
          "base_uri": "https://localhost:8080/",
          "height": 34
        },
        "id": "7z0Z3KOX5exz",
        "outputId": "543a3c60-1e55-433b-e272-4f0b15972334"
      },
      "source": [
        "dir()"
      ],
      "execution_count": null,
      "outputs": [
        {
          "output_type": "display_data",
          "data": {
            "text/plain": [
              "[1] \"mytest2.R\"   \"sample_data\" \"test2\"      "
            ],
            "text/latex": "\\begin{enumerate*}\n\\item 'mytest2.R'\n\\item 'sample\\_data'\n\\item 'test2'\n\\end{enumerate*}\n",
            "text/markdown": "1. 'mytest2.R'\n2. 'sample_data'\n3. 'test2'\n\n\n",
            "text/html": [
              "<style>\n",
              ".list-inline {list-style: none; margin:0; padding: 0}\n",
              ".list-inline>li {display: inline-block}\n",
              ".list-inline>li:not(:last-child)::after {content: \"\\00b7\"; padding: 0 .5ex}\n",
              "</style>\n",
              "<ol class=list-inline><li>'mytest2.R'</li><li>'sample_data'</li><li>'test2'</li></ol>\n"
            ]
          },
          "metadata": {
            "tags": []
          }
        }
      ]
    },
    {
      "cell_type": "code",
      "metadata": {
        "colab": {
          "base_uri": "https://localhost:8080/",
          "height": 34
        },
        "id": "A0RhfnOe5hzW",
        "outputId": "3f49d561-c59e-4bcf-c9fe-5ce6a70e4e85"
      },
      "source": [
        "file.copy('mytest2.R','mytest3.R')"
      ],
      "execution_count": null,
      "outputs": [
        {
          "output_type": "display_data",
          "data": {
            "text/plain": [
              "[1] TRUE"
            ],
            "text/latex": "TRUE",
            "text/markdown": "TRUE",
            "text/html": [
              "TRUE"
            ]
          },
          "metadata": {
            "tags": []
          }
        }
      ]
    },
    {
      "cell_type": "code",
      "metadata": {
        "colab": {
          "base_uri": "https://localhost:8080/",
          "height": 34
        },
        "id": "_BRKWKFp8kuV",
        "outputId": "079bfacf-f211-47da-cc95-8836d17ba5fe"
      },
      "source": [
        "file.path('testdir2','testdir3')"
      ],
      "execution_count": null,
      "outputs": [
        {
          "output_type": "display_data",
          "data": {
            "text/plain": [
              "[1] \"testdir2/testdir3\""
            ],
            "text/latex": "'testdir2/testdir3'",
            "text/markdown": "'testdir2/testdir3'",
            "text/html": [
              "'testdir2/testdir3'"
            ]
          },
          "metadata": {
            "tags": []
          }
        }
      ]
    },
    {
      "cell_type": "code",
      "metadata": {
        "id": "6oN630V6577F"
      },
      "source": [
        " dir.create(file.path('testdir2','testdir3'),recursive = TRUE)"
      ],
      "execution_count": null,
      "outputs": []
    },
    {
      "cell_type": "code",
      "metadata": {
        "id": "lZIz4bXC7L1f",
        "colab": {
          "base_uri": "https://localhost:8080/",
          "height": 34
        },
        "outputId": "1d12617d-2c98-46a4-9e25-ba4575996cf2"
      },
      "source": [
        "dir()"
      ],
      "execution_count": null,
      "outputs": [
        {
          "output_type": "display_data",
          "data": {
            "text/plain": [
              "[1] \"mytest2.R\"   \"mytest3.R\"   \"sample_data\" \"test2\"       \"testdir2\"   "
            ],
            "text/latex": "\\begin{enumerate*}\n\\item 'mytest2.R'\n\\item 'mytest3.R'\n\\item 'sample\\_data'\n\\item 'test2'\n\\item 'testdir2'\n\\end{enumerate*}\n",
            "text/markdown": "1. 'mytest2.R'\n2. 'mytest3.R'\n3. 'sample_data'\n4. 'test2'\n5. 'testdir2'\n\n\n",
            "text/html": [
              "<style>\n",
              ".list-inline {list-style: none; margin:0; padding: 0}\n",
              ".list-inline>li {display: inline-block}\n",
              ".list-inline>li:not(:last-child)::after {content: \"\\00b7\"; padding: 0 .5ex}\n",
              "</style>\n",
              "<ol class=list-inline><li>'mytest2.R'</li><li>'mytest3.R'</li><li>'sample_data'</li><li>'test2'</li><li>'testdir2'</li></ol>\n"
            ]
          },
          "metadata": {
            "tags": []
          }
        }
      ]
    },
    {
      "cell_type": "code",
      "metadata": {
        "id": "9eI0FKYV7Uqr"
      },
      "source": [
        "setwd('testdir2')"
      ],
      "execution_count": null,
      "outputs": []
    },
    {
      "cell_type": "code",
      "metadata": {
        "colab": {
          "base_uri": "https://localhost:8080/",
          "height": 51
        },
        "id": "zU4Ed3KXX4oe",
        "outputId": "674eedf4-df5b-4a1b-e84c-37c313179e09"
      },
      "source": [
        "dir()\n",
        "getwd()"
      ],
      "execution_count": null,
      "outputs": [
        {
          "output_type": "display_data",
          "data": {
            "text/plain": [
              "[1] \"testdir3\""
            ],
            "text/latex": "'testdir3'",
            "text/markdown": "'testdir3'",
            "text/html": [
              "'testdir3'"
            ]
          },
          "metadata": {
            "tags": []
          }
        },
        {
          "output_type": "display_data",
          "data": {
            "text/plain": [
              "[1] \"/content/testdir2\""
            ],
            "text/latex": "'/content/testdir2'",
            "text/markdown": "'/content/testdir2'",
            "text/html": [
              "'/content/testdir2'"
            ]
          },
          "metadata": {
            "tags": []
          }
        }
      ]
    },
    {
      "cell_type": "markdown",
      "metadata": {
        "id": "qM2e_KzXBjST"
      },
      "source": [
        "**Complete following tasks**\n",
        "\n",
        "Write R Code:\n",
        " \n",
        "\n",
        "1.    To create a directory named myworkplace in current working dirctory.\n",
        "2.   Create a folders/directories **exp1 and exp2** in it.\n",
        "3.   Navigate to **exp1** and create a file named **my_file.txt**. \n",
        "4.   Copy it to **my_file1.txt**\n",
        "5.   List files and folders in PWD and also in '/contents' directory  \n",
        "6.   Display only File access permisssion in the output for every file in **exp1** folder. "
      ]
    },
    {
      "cell_type": "code",
      "metadata": {
        "id": "t9sGb9VoDft9",
        "colab": {
          "base_uri": "https://localhost:8080/",
          "height": 51
        },
        "outputId": "4e4d44b9-1ad7-4765-94e2-6b3ae5642d69"
      },
      "source": [
        "getwd()\r\n",
        "dir.create('myworkplace')\r\n",
        "getwd()"
      ],
      "execution_count": null,
      "outputs": [
        {
          "output_type": "display_data",
          "data": {
            "text/plain": [
              "[1] \"/content/testdir2\""
            ],
            "text/latex": "'/content/testdir2'",
            "text/markdown": "'/content/testdir2'",
            "text/html": [
              "'/content/testdir2'"
            ]
          },
          "metadata": {
            "tags": []
          }
        },
        {
          "output_type": "display_data",
          "data": {
            "text/plain": [
              "[1] \"/content/testdir2\""
            ],
            "text/latex": "'/content/testdir2'",
            "text/markdown": "'/content/testdir2'",
            "text/html": [
              "'/content/testdir2'"
            ]
          },
          "metadata": {
            "tags": []
          }
        }
      ]
    },
    {
      "cell_type": "code",
      "metadata": {
        "id": "4JbbDiIuBipn",
        "colab": {
          "base_uri": "https://localhost:8080/",
          "height": 34
        },
        "outputId": "7bbdd629-4208-462d-f0d6-932c2672cf69"
      },
      "source": [
        "setwd('myworkplace')\r\n",
        "getwd()"
      ],
      "execution_count": null,
      "outputs": [
        {
          "output_type": "display_data",
          "data": {
            "text/plain": [
              "[1] \"/content/testdir2/myworkplace\""
            ],
            "text/latex": "'/content/testdir2/myworkplace'",
            "text/markdown": "'/content/testdir2/myworkplace'",
            "text/html": [
              "'/content/testdir2/myworkplace'"
            ]
          },
          "metadata": {
            "tags": []
          }
        }
      ]
    },
    {
      "cell_type": "code",
      "metadata": {
        "id": "JtqkpSm4bDdf"
      },
      "source": [
        "dir.create('exp1')\r\n",
        "dir.create('exp2')\r\n",
        "setwd('exp1')"
      ],
      "execution_count": null,
      "outputs": []
    },
    {
      "cell_type": "code",
      "metadata": {
        "colab": {
          "base_uri": "https://localhost:8080/",
          "height": 34
        },
        "id": "mvuhTSnUdUSh",
        "outputId": "c78a7772-ae4b-412f-918a-2e370004c35b"
      },
      "source": [
        "getwd()"
      ],
      "execution_count": null,
      "outputs": [
        {
          "output_type": "display_data",
          "data": {
            "text/plain": [
              "[1] \"/content/testdir2/myworkplace/exp1\""
            ],
            "text/latex": "'/content/testdir2/myworkplace/exp1'",
            "text/markdown": "'/content/testdir2/myworkplace/exp1'",
            "text/html": [
              "'/content/testdir2/myworkplace/exp1'"
            ]
          },
          "metadata": {
            "tags": []
          }
        }
      ]
    },
    {
      "cell_type": "code",
      "metadata": {
        "colab": {
          "base_uri": "https://localhost:8080/",
          "height": 34
        },
        "id": "ixsinDvqcRK8",
        "outputId": "e5b6eea1-53c7-4698-bf05-fd5554ae2972"
      },
      "source": [
        "file.create('my_file.txt')"
      ],
      "execution_count": null,
      "outputs": [
        {
          "output_type": "display_data",
          "data": {
            "text/plain": [
              "[1] TRUE"
            ],
            "text/latex": "TRUE",
            "text/markdown": "TRUE",
            "text/html": [
              "TRUE"
            ]
          },
          "metadata": {
            "tags": []
          }
        }
      ]
    },
    {
      "cell_type": "code",
      "metadata": {
        "colab": {
          "base_uri": "https://localhost:8080/",
          "height": 34
        },
        "id": "YYGLvgjvck_r",
        "outputId": "373b7fa3-765a-4ebe-bed2-9dab4d3e806a"
      },
      "source": [
        "file.copy('my_file.txt','my_file1.txt')"
      ],
      "execution_count": null,
      "outputs": [
        {
          "output_type": "display_data",
          "data": {
            "text/plain": [
              "[1] TRUE"
            ],
            "text/latex": "TRUE",
            "text/markdown": "TRUE",
            "text/html": [
              "TRUE"
            ]
          },
          "metadata": {
            "tags": []
          }
        }
      ]
    },
    {
      "cell_type": "code",
      "metadata": {
        "colab": {
          "base_uri": "https://localhost:8080/",
          "height": 34
        },
        "id": "WqVjDo6Uwi9a",
        "outputId": "061cef2f-5eef-4830-9ead-9ac9f86fdc54"
      },
      "source": [
        "list.files()"
      ],
      "execution_count": null,
      "outputs": [
        {
          "output_type": "display_data",
          "data": {
            "text/plain": [
              "[1] \"my_file.txt\"  \"my_file1.txt\""
            ],
            "text/latex": "\\begin{enumerate*}\n\\item 'my\\_file.txt'\n\\item 'my\\_file1.txt'\n\\end{enumerate*}\n",
            "text/markdown": "1. 'my_file.txt'\n2. 'my_file1.txt'\n\n\n",
            "text/html": [
              "<style>\n",
              ".list-inline {list-style: none; margin:0; padding: 0}\n",
              ".list-inline>li {display: inline-block}\n",
              ".list-inline>li:not(:last-child)::after {content: \"\\00b7\"; padding: 0 .5ex}\n",
              "</style>\n",
              "<ol class=list-inline><li>'my_file.txt'</li><li>'my_file1.txt'</li></ol>\n"
            ]
          },
          "metadata": {
            "tags": []
          }
        }
      ]
    },
    {
      "cell_type": "code",
      "metadata": {
        "colab": {
          "base_uri": "https://localhost:8080/",
          "height": 34
        },
        "id": "mbQI5FdWxW9l",
        "outputId": "69533a0e-efd5-4b81-e4a3-8a3a507be7bc"
      },
      "source": [
        "setwd('/content')\r\n",
        "getwd()"
      ],
      "execution_count": null,
      "outputs": [
        {
          "output_type": "display_data",
          "data": {
            "text/plain": [
              "[1] \"/content\""
            ],
            "text/latex": "'/content'",
            "text/markdown": "'/content'",
            "text/html": [
              "'/content'"
            ]
          },
          "metadata": {
            "tags": []
          }
        }
      ]
    },
    {
      "cell_type": "code",
      "metadata": {
        "colab": {
          "base_uri": "https://localhost:8080/",
          "height": 34
        },
        "id": "BJD2T8Thxkak",
        "outputId": "32339375-f798-4f0a-b9dd-26cb6511a4ee"
      },
      "source": [
        "list.files()"
      ],
      "execution_count": null,
      "outputs": [
        {
          "output_type": "display_data",
          "data": {
            "text/plain": [
              "[1] \"mytest2.R\"   \"mytest3.R\"   \"sample_data\" \"test2\"       \"testdir2\"   "
            ],
            "text/latex": "\\begin{enumerate*}\n\\item 'mytest2.R'\n\\item 'mytest3.R'\n\\item 'sample\\_data'\n\\item 'test2'\n\\item 'testdir2'\n\\end{enumerate*}\n",
            "text/markdown": "1. 'mytest2.R'\n2. 'mytest3.R'\n3. 'sample_data'\n4. 'test2'\n5. 'testdir2'\n\n\n",
            "text/html": [
              "<style>\n",
              ".list-inline {list-style: none; margin:0; padding: 0}\n",
              ".list-inline>li {display: inline-block}\n",
              ".list-inline>li:not(:last-child)::after {content: \"\\00b7\"; padding: 0 .5ex}\n",
              "</style>\n",
              "<ol class=list-inline><li>'mytest2.R'</li><li>'mytest3.R'</li><li>'sample_data'</li><li>'test2'</li><li>'testdir2'</li></ol>\n"
            ]
          },
          "metadata": {
            "tags": []
          }
        }
      ]
    },
    {
      "cell_type": "code",
      "metadata": {
        "colab": {
          "base_uri": "https://localhost:8080/",
          "height": 51
        },
        "id": "0_R7mKRgyY0I",
        "outputId": "d675b653-0e57-4cc9-b662-a163d4c8c1ff"
      },
      "source": [
        "setwd('/content/testdir2/myworkplace/exp1')\r\n",
        "file.access('my_file.txt')\r\n",
        "file.access('my_file1.txt')"
      ],
      "execution_count": null,
      "outputs": [
        {
          "output_type": "display_data",
          "data": {
            "text/plain": [
              "my_file.txt \n",
              "          0 "
            ],
            "text/latex": "\\textbf{my\\textbackslash{}\\_file.txt:} 0",
            "text/markdown": "**my_file.txt:** 0",
            "text/html": [
              "<strong>my_file.txt:</strong> 0"
            ]
          },
          "metadata": {
            "tags": []
          }
        },
        {
          "output_type": "display_data",
          "data": {
            "text/plain": [
              "my_file1.txt \n",
              "           0 "
            ],
            "text/latex": "\\textbf{my\\textbackslash{}\\_file1.txt:} 0",
            "text/markdown": "**my_file1.txt:** 0",
            "text/html": [
              "<strong>my_file1.txt:</strong> 0"
            ]
          },
          "metadata": {
            "tags": []
          }
        }
      ]
    }
  ]
}